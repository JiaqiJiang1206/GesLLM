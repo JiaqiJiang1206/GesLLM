{
 "cells": [
  {
   "cell_type": "code",
   "execution_count": 4,
   "metadata": {},
   "outputs": [],
   "source": [
    "# 参考https://zhuanlan.zhihu.com/p/665601512, https://platform.openai.com/docs/assistants/overview/agents\n",
    "\n",
    "import os\n",
    "os.environ[\"OPENAI_API_KEY\"] = \"sess-yWaHjyR5gVhkVSZpglZulvaXye5kbXcW1KzwiFgv\"\n",
    "\n",
    "from openai import OpenAI\n",
    "\n",
    "client = OpenAI()\n",
    "assistant = client.beta.assistants.create(\n",
    "    name=\"test\",\n",
    "    instructions=\"Within teachers' communicative gestures, there are four more specific categories. Describing concrete or abstract concepts; communicating interpersonal relationship; pointing gestures(pointing to students, pointing to the blackboard,  pointing to somewhere in space); and common gestures by convention.The teacher's gestures is described in terms of forearms, palm and fingers. Forearm: Move horizontally or move vertically. Palm: perpendicular to the ground, facing up and parallel to the ground, facing down and parallel to the ground.Fingers: fully bent and clenched into a fist, fully extended, relaxed between the two. Here are some guidelines you can follow: 1. Not every sentence needs to have a corresponding gesture. 2. On average, teachers use gestures to express information about 2.5 times per minute. 3. When a sentence can contain more than one gesture, choose the most important one. Example 1: Sentence: Good morning, classmates. Please take a seat. Whether or not a gesture should be used here: yes. Gesture classification: communicating interpersonal relationship. Reason: First of all, the use of gestures here can help teachers build an equal and harmonious teacher-student relationship. Secondly, this is the first sentence in the classroom and the use of gestures will not seem too frequent. Gesture description: The teacher open hands to express welcome. Gesture form: Forearms move horizontally from the inside out, palms are facing up and parallel to the ground and fingers are fully extended.  Example 2: Sentence: Students, before we studied this lesson, we went into our neighborhoods and parks together to see, hear, smell, be field artists, and draw nature notes. Whether or not a gesture should be used here: no. Reason: First, there are so many concepts in this sentence that describing them in this way would seem overwhelming; second, this sentence is not intended to build relationships or convey pedagogical meaning or to serve as an emphatic statement, and there is no need to use gestures on purpose. Output in the order of Sentence, Whether or not a gesture should be used here, Gesture classification, Reason, Gesture description and Gesture form.\" ,\n",
    "   \n",
    "    model=\"gpt-3.5-turbo-1106\"\n",
    ")"
   ]
  },
  {
   "cell_type": "code",
   "execution_count": 5,
   "metadata": {},
   "outputs": [],
   "source": [
    "thread = client.beta.threads.create()"
   ]
  },
  {
   "cell_type": "code",
   "execution_count": 6,
   "metadata": {},
   "outputs": [],
   "source": [
    "message = client.beta.threads.messages.create(\n",
    "    thread_id=thread.id,\n",
    "    role=\"user\",\n",
    "    content=\"同学们早上好。上课。\"\n",
    ")"
   ]
  },
  {
   "cell_type": "code",
   "execution_count": 7,
   "metadata": {},
   "outputs": [
    {
     "name": "stdout",
     "output_type": "stream",
     "text": [
      "queued\n"
     ]
    }
   ],
   "source": [
    "run = client.beta.threads.runs.create(\n",
    "  thread_id=thread.id,\n",
    "  assistant_id=assistant.id,\n",
    "#   instructions=\"Please address the user as Jane Doe. The user has a premium account.\"\n",
    ")\n",
    "print(run.status)"
   ]
  },
  {
   "cell_type": "code",
   "execution_count": 8,
   "metadata": {},
   "outputs": [
    {
     "name": "stdout",
     "output_type": "stream",
     "text": [
      "queued\n",
      "ThreadMessage(id='msg_3txyRikRQc6LTzjivGfOQrTv', assistant_id=None, content=[MessageContentText(text=Text(annotations=[], value='同学们早上好。上课。'), type='text')], created_at=1700741263, file_ids=[], metadata={}, object='thread.message', role='user', run_id=None, thread_id='thread_FroOHxvV5RKYZM6qoIdwxTgu')\n"
     ]
    }
   ],
   "source": [
    "import time\n",
    "\n",
    "while run.status != \"completed\":\n",
    "   print(run.status)\n",
    "   time.sleep(5)  # 等待5秒\n",
    "   run = client.beta.threads.runs.retrieve(\n",
    "    thread_id=thread.id,\n",
    "    run_id=run.id\n",
    "    )\n",
    "\n",
    "messages = client.beta.threads.messages.list(\n",
    " thread_id=thread.id\n",
    ")\n",
    "\n",
    "print(messages.data[1])"
   ]
  },
  {
   "cell_type": "code",
   "execution_count": 11,
   "metadata": {},
   "outputs": [
    {
     "name": "stdout",
     "output_type": "stream",
     "text": [
      "Whether or not a gesture should be used here: Yes.\n",
      "Gesture classification: Communicating interpersonal relationship.\n",
      "Reason: The use of gestures can help to build a warm and welcoming classroom atmosphere.\n",
      "Gesture description: The teacher open hands to express welcome.\n",
      "Gesture form: Forearms move horizontally from the inside out, palms are facing up and parallel to the ground, and fingers are fully extended.\n"
     ]
    }
   ],
   "source": [
    "print(messages.data[0].content[0].text.value)"
   ]
  }
 ],
 "metadata": {
  "kernelspec": {
   "display_name": "llm",
   "language": "python",
   "name": "python3"
  },
  "language_info": {
   "codemirror_mode": {
    "name": "ipython",
    "version": 3
   },
   "file_extension": ".py",
   "mimetype": "text/x-python",
   "name": "python",
   "nbconvert_exporter": "python",
   "pygments_lexer": "ipython3",
   "version": "3.9.0"
  }
 },
 "nbformat": 4,
 "nbformat_minor": 2
}
