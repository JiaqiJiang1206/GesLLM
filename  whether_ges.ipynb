{
 "cells": [
  {
   "cell_type": "code",
   "execution_count": 1,
   "metadata": {},
   "outputs": [],
   "source": [
    "# 参考https://zhuanlan.zhihu.com/p/665601512, https://platform.openai.com/docs/assistants/overview/agents\n",
    "\n",
    "import os\n",
    "os.environ[\"OPENAI_API_KEY\"] = \"\"\n",
    "\n",
    "from openai import OpenAI\n",
    "\n",
    "client = OpenAI()\n",
    "assistant = client.beta.assistants.create(\n",
    "    name=\"test\",\n",
    "    instructions=\"You are an assistant who helps teachers decide if they should use gestures now. You should make your decision on the following rules: Frequency Rule: When to Use Gestures: It is advisable to use gestures moderately. Aim to incorporate a gesture every two sentences to maintain a balance and avoid overwhelming your audience. When to Avoid Gestures: Refrain from using gestures too frequently within a short timeframe, as it may distract from the verbal message and lead to diminished impact. Necessity Rule: When to Use Gestures: Incorporate gestures when the content of a sentence benefits from visual emphasis. This can aid in clearer communication, especially when conveying complex ideas or reinforcing key points. When to Avoid Gestures: If a sentence or concept doesn't require visual emphasis and can be effectively communicated verbally, there might be no necessity for gestures. Avoid unnecessary gestures that could potentially confuse or distract your audience.\" ,\n",
    "   \n",
    "    model=\"gpt-3.5-turbo-1106\"\n",
    ")"
   ]
  },
  {
   "cell_type": "code",
   "execution_count": 2,
   "metadata": {},
   "outputs": [],
   "source": [
    "thread = client.beta.threads.create()"
   ]
  },
  {
   "cell_type": "code",
   "execution_count": 3,
   "metadata": {},
   "outputs": [],
   "source": [
    "message = client.beta.threads.messages.create(\n",
    "    thread_id=thread.id,\n",
    "    role=\"user\",\n",
    "    content=\"同学们早上好。上课。\"\n",
    ")"
   ]
  },
  {
   "cell_type": "code",
   "execution_count": 4,
   "metadata": {},
   "outputs": [
    {
     "name": "stdout",
     "output_type": "stream",
     "text": [
      "queued\n"
     ]
    }
   ],
   "source": [
    "run = client.beta.threads.runs.create(\n",
    "  thread_id=thread.id,\n",
    "  assistant_id=assistant.id,\n",
    "#   instructions=\"Please address the user as Jane Doe. The user has a premium account.\"\n",
    ")\n",
    "print(run.status)"
   ]
  },
  {
   "cell_type": "code",
   "execution_count": 5,
   "metadata": {},
   "outputs": [
    {
     "name": "stdout",
     "output_type": "stream",
     "text": [
      "queued\n",
      "ThreadMessage(id='msg_HMe2xcU1pnze0s38mxBdV9rn', assistant_id=None, content=[MessageContentText(text=Text(annotations=[], value='同学们早上好。上课。'), type='text')], created_at=1700805721, file_ids=[], metadata={}, object='thread.message', role='user', run_id=None, thread_id='thread_Ebopq5OI6l6XXgq6kAAzZD8V')\n"
     ]
    }
   ],
   "source": [
    "import time\n",
    "\n",
    "while run.status != \"completed\":\n",
    "   print(run.status)\n",
    "   time.sleep(5)  # 等待5秒\n",
    "   run = client.beta.threads.runs.retrieve(\n",
    "    thread_id=thread.id,\n",
    "    run_id=run.id\n",
    "    )\n",
    "\n",
    "messages = client.beta.threads.messages.list(\n",
    " thread_id=thread.id\n",
    ")\n",
    "\n",
    "print(messages.data[1])"
   ]
  },
  {
   "cell_type": "code",
   "execution_count": 6,
   "metadata": {},
   "outputs": [
    {
     "name": "stdout",
     "output_type": "stream",
     "text": [
      "Based on the Frequency Rule, it's advisable to use a gesture now as it's been two sentences since the last one. However, based on the Necessity Rule, the content of the sentence doesn't particularly benefit from visual emphasis, as it's a simple greeting and instruction. Therefore, it would be best to avoid using a gesture in this instance. Starting the lesson with a clear verbal instruction may be sufficient without the need for a gesture.\n"
     ]
    }
   ],
   "source": [
    "print(messages.data[0].content[0].text.value)"
   ]
  },
  {
   "cell_type": "code",
   "execution_count": 7,
   "metadata": {},
   "outputs": [
    {
     "name": "stdout",
     "output_type": "stream",
     "text": [
      "queued\n"
     ]
    }
   ],
   "source": [
    "message = client.beta.threads.messages.create(\n",
    "    thread_id=thread.id,\n",
    "    role=\"user\",\n",
    "    content=\"大家昨晚的作业写完了吗？\"\n",
    ")\n",
    "run = client.beta.threads.runs.create(\n",
    "  thread_id=thread.id,\n",
    "  assistant_id=assistant.id,\n",
    "#   instructions=\"Please address the user as Jane Doe. The user has a premium account.\"\n",
    ")\n",
    "while run.status != \"completed\":\n",
    "   print(run.status)\n",
    "   time.sleep(5)  # 等待5秒\n",
    "   run = client.beta.threads.runs.retrieve(\n",
    "    thread_id=thread.id,\n",
    "    run_id=run.id\n",
    "    )\n",
    "\n",
    "messages = client.beta.threads.messages.list(\n",
    " thread_id=thread.id\n",
    ")\n"
   ]
  },
  {
   "cell_type": "code",
   "execution_count": 19,
   "metadata": {},
   "outputs": [
    {
     "name": "stdout",
     "output_type": "stream",
     "text": [
      "Based on the Frequency Rule, it would be suitable to use a gesture now, as it has been two sentences since the last one. In terms of the Necessity Rule, incorporating a gesture could add visual emphasis to the question, especially if it's an important reminder or if you want to convey the significance of completing the homework. Therefore, using a gesture in this instance would be beneficial for clearer communication and emphasis.\n",
      "大家昨晚的作业写完了吗？\n",
      "Based on the Frequency Rule, it's advisable to use a gesture now as it's been two sentences since the last one. However, based on the Necessity Rule, the content of the sentence doesn't particularly benefit from visual emphasis, as it's a simple greeting and instruction. Therefore, it would be best to avoid using a gesture in this instance. Starting the lesson with a clear verbal instruction may be sufficient without the need for a gesture.\n",
      "同学们早上好。上课。\n"
     ]
    }
   ],
   "source": [
    "\n",
    "# 用循环的方式打印出所有的message\n",
    "for i in range(len(messages.data)):\n",
    "    print(messages.data[i].content[0].text.value)\n"
   ]
  },
  {
   "cell_type": "code",
   "execution_count": 20,
   "metadata": {},
   "outputs": [
    {
     "name": "stdout",
     "output_type": "stream",
     "text": [
      "queued\n"
     ]
    }
   ],
   "source": [
    "message = client.beta.threads.messages.create(\n",
    "    thread_id=thread.id,\n",
    "    role=\"user\",\n",
    "    content=\"我看了一下，大家的作业都完成的很好。\"\n",
    ")\n",
    "run = client.beta.threads.runs.create(\n",
    "  thread_id=thread.id,\n",
    "  assistant_id=assistant.id,\n",
    "#   instructions=\"Please address the user as Jane Doe. The user has a premium account.\"\n",
    ")\n",
    "while run.status != \"completed\":\n",
    "   print(run.status)\n",
    "   time.sleep(5)  # 等待5秒\n",
    "   run = client.beta.threads.runs.retrieve(\n",
    "    thread_id=thread.id,\n",
    "    run_id=run.id\n",
    "    )\n",
    "\n",
    "messages = client.beta.threads.messages.list(\n",
    " thread_id=thread.id\n",
    ")"
   ]
  },
  {
   "cell_type": "code",
   "execution_count": 21,
   "metadata": {},
   "outputs": [
    {
     "name": "stdout",
     "output_type": "stream",
     "text": [
      "Based on the Frequency Rule, it's suitable to use a gesture now, as it has been two sentences since the last one. In terms of the Necessity Rule, incorporating a gesture could add visual emphasis to the statement, especially to reinforce the positive feedback to the students. Therefore, using a gesture in this instance would be beneficial for clearer communication and emphasis.\n",
      "我看了一下，大家的作业都完成的很好。\n",
      "Based on the Frequency Rule, it would be suitable to use a gesture now, as it has been two sentences since the last one. In terms of the Necessity Rule, incorporating a gesture could add visual emphasis to the question, especially if it's an important reminder or if you want to convey the significance of completing the homework. Therefore, using a gesture in this instance would be beneficial for clearer communication and emphasis.\n",
      "大家昨晚的作业写完了吗？\n",
      "Based on the Frequency Rule, it's advisable to use a gesture now as it's been two sentences since the last one. However, based on the Necessity Rule, the content of the sentence doesn't particularly benefit from visual emphasis, as it's a simple greeting and instruction. Therefore, it would be best to avoid using a gesture in this instance. Starting the lesson with a clear verbal instruction may be sufficient without the need for a gesture.\n",
      "同学们早上好。上课。\n"
     ]
    }
   ],
   "source": [
    "# 用循环的方式打印出所有的message\n",
    "for i in range(len(messages.data)):\n",
    "    print(messages.data[i].content[0].text.value)"
   ]
  },
  {
   "cell_type": "code",
   "execution_count": 22,
   "metadata": {},
   "outputs": [
    {
     "name": "stdout",
     "output_type": "stream",
     "text": [
      "queued\n"
     ]
    }
   ],
   "source": [
    "message = client.beta.threads.messages.create(\n",
    "    thread_id=thread.id,\n",
    "    role=\"user\",\n",
    "    content=\"现在，请大家打开课本，自由朗读课文。\"\n",
    ")\n",
    "run = client.beta.threads.runs.create(\n",
    "  thread_id=thread.id,\n",
    "  assistant_id=assistant.id,\n",
    "#   instructions=\"Please address the user as Jane Doe. The user has a premium account.\"\n",
    ")\n",
    "while run.status != \"completed\":\n",
    "   print(run.status)\n",
    "   time.sleep(5)  # 等待5秒\n",
    "   run = client.beta.threads.runs.retrieve(\n",
    "    thread_id=thread.id,\n",
    "    run_id=run.id\n",
    "    )\n",
    "\n",
    "messages = client.beta.threads.messages.list(\n",
    " thread_id=thread.id\n",
    ")"
   ]
  },
  {
   "cell_type": "code",
   "execution_count": 23,
   "metadata": {},
   "outputs": [
    {
     "name": "stdout",
     "output_type": "stream",
     "text": [
      "Based on the Frequency Rule, it's advisable to use a gesture now, as it has been two sentences since the last one. However, in terms of the Necessity Rule, the content of the sentence doesn't particularly benefit from visual emphasis, as it's a straightforward instruction. Therefore, it would be best to avoid using a gesture in this instance. Clear verbal instruction may be sufficient without the need for a gesture.\n",
      "现在，请大家打开课本，自由朗读课文。\n",
      "Based on the Frequency Rule, it's suitable to use a gesture now, as it has been two sentences since the last one. In terms of the Necessity Rule, incorporating a gesture could add visual emphasis to the statement, especially to reinforce the positive feedback to the students. Therefore, using a gesture in this instance would be beneficial for clearer communication and emphasis.\n",
      "我看了一下，大家的作业都完成的很好。\n",
      "Based on the Frequency Rule, it would be suitable to use a gesture now, as it has been two sentences since the last one. In terms of the Necessity Rule, incorporating a gesture could add visual emphasis to the question, especially if it's an important reminder or if you want to convey the significance of completing the homework. Therefore, using a gesture in this instance would be beneficial for clearer communication and emphasis.\n",
      "大家昨晚的作业写完了吗？\n",
      "Based on the Frequency Rule, it's advisable to use a gesture now as it's been two sentences since the last one. However, based on the Necessity Rule, the content of the sentence doesn't particularly benefit from visual emphasis, as it's a simple greeting and instruction. Therefore, it would be best to avoid using a gesture in this instance. Starting the lesson with a clear verbal instruction may be sufficient without the need for a gesture.\n",
      "同学们早上好。上课。\n"
     ]
    }
   ],
   "source": [
    "# 用循环的方式打印出所有的message\n",
    "for i in range(len(messages.data)):\n",
    "    print(messages.data[i].content[0].text.value)"
   ]
  }
 ],
 "metadata": {
  "kernelspec": {
   "display_name": "llm",
   "language": "python",
   "name": "python3"
  },
  "language_info": {
   "codemirror_mode": {
    "name": "ipython",
    "version": 3
   },
   "file_extension": ".py",
   "mimetype": "text/x-python",
   "name": "python",
   "nbconvert_exporter": "python",
   "pygments_lexer": "ipython3",
   "version": "3.9.0"
  }
 },
 "nbformat": 4,
 "nbformat_minor": 2
}
