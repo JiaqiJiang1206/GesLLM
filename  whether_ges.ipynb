{
 "cells": [
  {
   "cell_type": "code",
   "execution_count": 1,
   "metadata": {},
   "outputs": [],
   "source": [
    "# 参考https://zhuanlan.zhihu.com/p/665601512, https://platform.openai.com/docs/assistants/overview/agents\n",
    "\n",
    "import os\n",
    "os.environ[\"OPENAI_API_KEY\"] = \"sess-yWaHjyR5gVhkVSZpglZulvaXye5kbXcW1KzwiFgv\"\n",
    "\n",
    "from openai import OpenAI\n",
    "\n",
    "client = OpenAI()\n",
    "assistant = client.beta.assistants.create(\n",
    "    name=\"test\",\n",
    "    instructions=\"You are an assistant who helps teachers decide if they should use gestures now. You should make your decision on the following rules: Frequency Rule: When to Use Gestures: It is advisable to use gestures moderately. Aim to incorporate a gesture every two sentences to maintain a balance and avoid overwhelming your audience. When to Avoid Gestures: Refrain from using gestures too frequently within a short timeframe, as it may distract from the verbal message and lead to diminished impact. Necessity Rule: When to Use Gestures: Incorporate gestures when the content of a sentence benefits from visual emphasis. This can aid in clearer communication, especially when conveying complex ideas or reinforcing key points. When to Avoid Gestures: If a sentence or concept doesn't require visual emphasis and can be effectively communicated verbally, there might be no necessity for gestures. Avoid unnecessary gestures that could potentially confuse or distract your audience.\" ,\n",
    "   \n",
    "    model=\"gpt-3.5-turbo-1106\"\n",
    ")"
   ]
  },
  {
   "cell_type": "code",
   "execution_count": 2,
   "metadata": {},
   "outputs": [],
   "source": [
    "thread = client.beta.threads.create()"
   ]
  },
  {
   "cell_type": "code",
   "execution_count": 3,
   "metadata": {},
   "outputs": [],
   "source": [
    "message = client.beta.threads.messages.create(\n",
    "    thread_id=thread.id,\n",
    "    role=\"user\",\n",
    "    content=\"同学们早上好。上课。\"\n",
    ")"
   ]
  },
  {
   "cell_type": "code",
   "execution_count": 4,
   "metadata": {},
   "outputs": [
    {
     "name": "stdout",
     "output_type": "stream",
     "text": [
      "queued\n"
     ]
    }
   ],
   "source": [
    "run = client.beta.threads.runs.create(\n",
    "  thread_id=thread.id,\n",
    "  assistant_id=assistant.id,\n",
    "#   instructions=\"Please address the user as Jane Doe. The user has a premium account.\"\n",
    ")\n",
    "print(run.status)"
   ]
  },
  {
   "cell_type": "code",
   "execution_count": 5,
   "metadata": {},
   "outputs": [
    {
     "name": "stdout",
     "output_type": "stream",
     "text": [
      "queued\n",
      "ThreadMessage(id='msg_HMe2xcU1pnze0s38mxBdV9rn', assistant_id=None, content=[MessageContentText(text=Text(annotations=[], value='同学们早上好。上课。'), type='text')], created_at=1700805721, file_ids=[], metadata={}, object='thread.message', role='user', run_id=None, thread_id='thread_Ebopq5OI6l6XXgq6kAAzZD8V')\n"
     ]
    }
   ],
   "source": [
    "import time\n",
    "\n",
    "while run.status != \"completed\":\n",
    "   print(run.status)\n",
    "   time.sleep(5)  # 等待5秒\n",
    "   run = client.beta.threads.runs.retrieve(\n",
    "    thread_id=thread.id,\n",
    "    run_id=run.id\n",
    "    )\n",
    "\n",
    "messages = client.beta.threads.messages.list(\n",
    " thread_id=thread.id\n",
    ")\n",
    "\n",
    "print(messages.data[1])"
   ]
  },
  {
   "cell_type": "code",
   "execution_count": 6,
   "metadata": {},
   "outputs": [
    {
     "name": "stdout",
     "output_type": "stream",
     "text": [
      "Based on the Frequency Rule, it's advisable to use a gesture now as it's been two sentences since the last one. However, based on the Necessity Rule, the content of the sentence doesn't particularly benefit from visual emphasis, as it's a simple greeting and instruction. Therefore, it would be best to avoid using a gesture in this instance. Starting the lesson with a clear verbal instruction may be sufficient without the need for a gesture.\n"
     ]
    }
   ],
   "source": [
    "print(messages.data[0].content[0].text.value)"
   ]
  },
  {
   "cell_type": "code",
   "execution_count": 7,
   "metadata": {},
   "outputs": [
    {
     "name": "stdout",
     "output_type": "stream",
     "text": [
      "queued\n"
     ]
    }
   ],
   "source": [
    "message = client.beta.threads.messages.create(\n",
    "    thread_id=thread.id,\n",
    "    role=\"user\",\n",
    "    content=\"大家昨晚的作业写完了吗？\"\n",
    ")\n",
    "run = client.beta.threads.runs.create(\n",
    "  thread_id=thread.id,\n",
    "  assistant_id=assistant.id,\n",
    "#   instructions=\"Please address the user as Jane Doe. The user has a premium account.\"\n",
    ")\n",
    "while run.status != \"completed\":\n",
    "   print(run.status)\n",
    "   time.sleep(5)  # 等待5秒\n",
    "   run = client.beta.threads.runs.retrieve(\n",
    "    thread_id=thread.id,\n",
    "    run_id=run.id\n",
    "    )\n",
    "\n",
    "messages = client.beta.threads.messages.list(\n",
    " thread_id=thread.id\n",
    ")\n"
   ]
  },
  {
   "cell_type": "code",
   "execution_count": 16,
   "metadata": {},
   "outputs": [
    {
     "name": "stdout",
     "output_type": "stream",
     "text": [
      "ThreadMessage(id='msg_CTt7GyEG9mKSwIK331ALWsUl', assistant_id='asst_mmYjVcJzyt4HuqTAomDQFjkX', content=[MessageContentText(text=Text(annotations=[], value=\"Based on the Frequency Rule, it would be suitable to use a gesture now, as it has been two sentences since the last one. In terms of the Necessity Rule, incorporating a gesture could add visual emphasis to the question, especially if it's an important reminder or if you want to convey the significance of completing the homework. Therefore, using a gesture in this instance would be beneficial for clearer communication and emphasis.\"), type='text')], created_at=1700805836, file_ids=[], metadata={}, object='thread.message', role='assistant', run_id='run_rYbFCpkQP0dxAk2GV9AZUi5g', thread_id='thread_Ebopq5OI6l6XXgq6kAAzZD8V')\n",
      "ThreadMessage(id='msg_0Le429Q9fPJGdoNk4nRpmcrb', assistant_id=None, content=[MessageContentText(text=Text(annotations=[], value='大家昨晚的作业写完了吗？'), type='text')], created_at=1700805834, file_ids=[], metadata={}, object='thread.message', role='user', run_id=None, thread_id='thread_Ebopq5OI6l6XXgq6kAAzZD8V')\n",
      "ThreadMessage(id='msg_VoXKA2YrHPQlsswiftgZuANm', assistant_id='asst_mmYjVcJzyt4HuqTAomDQFjkX', content=[MessageContentText(text=Text(annotations=[], value=\"Based on the Frequency Rule, it's advisable to use a gesture now as it's been two sentences since the last one. However, based on the Necessity Rule, the content of the sentence doesn't particularly benefit from visual emphasis, as it's a simple greeting and instruction. Therefore, it would be best to avoid using a gesture in this instance. Starting the lesson with a clear verbal instruction may be sufficient without the need for a gesture.\"), type='text')], created_at=1700805725, file_ids=[], metadata={}, object='thread.message', role='assistant', run_id='run_kdADaBycjIbLUH8Poqn1VZ8K', thread_id='thread_Ebopq5OI6l6XXgq6kAAzZD8V')\n",
      "ThreadMessage(id='msg_HMe2xcU1pnze0s38mxBdV9rn', assistant_id=None, content=[MessageContentText(text=Text(annotations=[], value='同学们早上好。上课。'), type='text')], created_at=1700805721, file_ids=[], metadata={}, object='thread.message', role='user', run_id=None, thread_id='thread_Ebopq5OI6l6XXgq6kAAzZD8V')\n"
     ]
    },
    {
     "ename": "IndexError",
     "evalue": "list index out of range",
     "output_type": "error",
     "traceback": [
      "\u001b[0;31m---------------------------------------------------------------------------\u001b[0m",
      "\u001b[0;31mIndexError\u001b[0m                                Traceback (most recent call last)",
      "\u001b[1;32m/Users/jiangjiaqi/Library/Mobile Documents/com~apple~CloudDocs/01. Graduate School/02. Project/002 Smart Classroom/code/GesLLM/assistant copy.ipynb 单元格 8\u001b[0m line \u001b[0;36m5\n\u001b[1;32m      <a href='vscode-notebook-cell:/Users/jiangjiaqi/Library/Mobile%20Documents/com~apple~CloudDocs/01.%20Graduate%20School/02.%20Project/002%20Smart%20Classroom/code/GesLLM/assistant%20copy.ipynb#W6sZmlsZQ%3D%3D?line=2'>3</a>\u001b[0m \u001b[39mprint\u001b[39m(messages\u001b[39m.\u001b[39mdata[\u001b[39m2\u001b[39m]) \u001b[39m#second answer\u001b[39;00m\n\u001b[1;32m      <a href='vscode-notebook-cell:/Users/jiangjiaqi/Library/Mobile%20Documents/com~apple~CloudDocs/01.%20Graduate%20School/02.%20Project/002%20Smart%20Classroom/code/GesLLM/assistant%20copy.ipynb#W6sZmlsZQ%3D%3D?line=3'>4</a>\u001b[0m \u001b[39mprint\u001b[39m(messages\u001b[39m.\u001b[39mdata[\u001b[39m3\u001b[39m]) \u001b[39m#first question\u001b[39;00m\n\u001b[0;32m----> <a href='vscode-notebook-cell:/Users/jiangjiaqi/Library/Mobile%20Documents/com~apple~CloudDocs/01.%20Graduate%20School/02.%20Project/002%20Smart%20Classroom/code/GesLLM/assistant%20copy.ipynb#W6sZmlsZQ%3D%3D?line=4'>5</a>\u001b[0m \u001b[39mprint\u001b[39m(messages\u001b[39m.\u001b[39;49mdata[\u001b[39m4\u001b[39;49m]) \u001b[39m#first answer\u001b[39;00m\n",
      "\u001b[0;31mIndexError\u001b[0m: list index out of range"
     ]
    }
   ],
   "source": [
    "print(messages.data[0]) #first answer\n",
    "print(messages.data[1]) #second question\n",
    "print(messages.data[2]) #second answer\n",
    "print(messages.data[3]) #first question\n"
   ]
  }
 ],
 "metadata": {
  "kernelspec": {
   "display_name": "llm",
   "language": "python",
   "name": "python3"
  },
  "language_info": {
   "codemirror_mode": {
    "name": "ipython",
    "version": 3
   },
   "file_extension": ".py",
   "mimetype": "text/x-python",
   "name": "python",
   "nbconvert_exporter": "python",
   "pygments_lexer": "ipython3",
   "version": "3.9.0"
  }
 },
 "nbformat": 4,
 "nbformat_minor": 2
}
